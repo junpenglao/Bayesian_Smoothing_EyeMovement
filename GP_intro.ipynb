{
 "cells": [
  {
   "cell_type": "markdown",
   "metadata": {},
   "source": [
    "# Gaussian Process - A Brief Overview"
   ]
  },
  {
   "cell_type": "markdown",
   "metadata": {},
   "source": []
  },
  {
   "cell_type": "markdown",
   "metadata": {},
   "source": [
    "# References and other useful resource\n",
    "\n",
    "\n",
    "### Theory  \n",
    "\n",
    "* Rasmussen, C. E. and Williams, C. K. I. (2006). [Gaussian Processes for Machine Learning](http://www.gaussianprocess.org/gpml/).\n",
    "MIT Press. 238, 245  \n",
    "  \n",
    "\n",
    "### Intuition  \n",
    "\n",
    "* [Gaussian Process Models in Python](http://nbviewer.jupyter.org/github/fonnesbeck/gp_showdown/blob/master/GP%20Showdown.ipynb) by Chris Fonnesbeck  \n",
    "* [Video Lecture](http://videolectures.net/mlss07_rasmussen_bigp/) by Carl Rasmussen  \n",
    "* Link between Deep neural network and Gaussian Process, [Blog post](http://mlg.eng.cam.ac.uk/yarin/blog_3d801aa532c1ce.html) by  Yarin Gal\n",
    "\n",
    "  \n",
    "### Practical  \n",
    "\n",
    "* [GPML](http://www.gaussianprocess.org/gpml/code/matlab/doc/)  \n",
    "* Using [scikit-learn](http://scikit-learn.org/stable/modules/gaussian_process.html)  \n",
    "* GP in Stan see [Manual Chapter 17](https://github.com/stan-dev/stan/releases/download/v2.14.0/stan-reference-2.14.0.pdf) and [Stan example](https://github.com/stan-dev/example-models/tree/master/misc/gaussian-process). Also some information on [Prior choice](https://github.com/stan-dev/stan/wiki/Prior-Choice-Recommendations#priors-for-gaussian-processes)   \n",
    "* [GPy](https://github.com/sheffieldml/gpy) from Sheffield machine learning group  \n",
    "* [GPflow](https://github.com/GPflow/GPflow)  \n",
    "* [PyMC3 GP module](http://pymc-devs.github.io/pymc3/examples.html#gaussian-processes)  "
   ]
  }
 ],
 "metadata": {
  "kernelspec": {
   "display_name": "Python 3",
   "language": "python",
   "name": "python3"
  },
  "language_info": {
   "codemirror_mode": {
    "name": "ipython",
    "version": 3
   },
   "file_extension": ".py",
   "mimetype": "text/x-python",
   "name": "python",
   "nbconvert_exporter": "python",
   "pygments_lexer": "ipython3",
   "version": "3.5.1"
  }
 },
 "nbformat": 4,
 "nbformat_minor": 2
}
